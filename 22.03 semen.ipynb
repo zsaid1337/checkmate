{
 "cells": [
  {
   "cell_type": "code",
   "execution_count": null,
   "id": "f27f31ba",
   "metadata": {},
   "outputs": [],
   "source": [
    "#Задача о таджике и узбеке "
   ]
  },
  {
   "cell_type": "code",
   "execution_count": 10,
   "id": "b411d75d",
   "metadata": {},
   "outputs": [
    {
     "name": "stdout",
     "output_type": "stream",
     "text": [
      "8\n"
     ]
    }
   ],
   "source": [
    "N = int(input())\n",
    "#We need to get [N, N] point\n",
    "def adj_list_finder(x:list, N):\n",
    "    adj_list = [[x[0] - 2, x[1] + 1], [x[0] - 1, x[1] + 2], [x[0] + 2, x[1] + 1], [x[0] + 1, x[1] + 2]]\n",
    "    count = 0;\n",
    "    while count != len(adj_list):\n",
    "        if adj_list[count][0] <= 0 or adj_list[count][1] <= 0 or adj_list[count][0] > N or adj_list[count][1] > N:\n",
    "            adj_list.pop(count)\n",
    "            count = 0\n",
    "        else:\n",
    "            count += 1\n",
    "    return adj_list\n",
    "        \n",
    "    "
   ]
  },
  {
   "cell_type": "code",
   "execution_count": 11,
   "id": "ed186ecd",
   "metadata": {},
   "outputs": [
    {
     "name": "stdout",
     "output_type": "stream",
     "text": [
      "[[3, 2], [2, 3]]\n"
     ]
    }
   ],
   "source": [
    "print(adj_list_finder([1, 1], N))"
   ]
  },
  {
   "cell_type": "code",
   "execution_count": 1,
   "id": "39b514d6",
   "metadata": {},
   "outputs": [],
   "source": [
    "edge_list = [\n",
    "    [0,1], \n",
    "    [1,3], [1,6],\n",
    "    [3, 2],[3, 7], \n",
    "    [4, 2],\n",
    "    [6, 3], \n",
    "    [7,4], [7, 5]\n",
    "]\n",
    "vert_num = 8"
   ]
  },
  {
   "cell_type": "code",
   "execution_count": null,
   "id": "6f038f9c",
   "metadata": {},
   "outputs": [],
   "source": []
  },
  {
   "cell_type": "code",
   "execution_count": 2,
   "id": "622d6f46",
   "metadata": {},
   "outputs": [],
   "source": [
    "def construct_adj_list(edje_list, vert_num):\n",
    "    adj_list = [[] for _ in range(vert_num)]\n",
    "    for edge in edge_list:\n",
    "        src = edge[0]\n",
    "        dest = edge[1]\n",
    "        adj_list[src].append(dest)\n",
    "    return adj_list"
   ]
  },
  {
   "cell_type": "code",
   "execution_count": 106,
   "id": "3b795c9f",
   "metadata": {},
   "outputs": [],
   "source": [
    "\n",
    "def bfs(src, dist, queue, N, flag):\n",
    "    adj_list = adj_list_finder(src , N)\n",
    "    x = []\n",
    "    for i in adj_list:\n",
    "        if i == [N, N]:\n",
    "            \n",
    "            return [dist + 1, True]\n",
    "        \n",
    "        if i not in queue:\n",
    "            x.append(i)\n",
    "    if len(x) == 0:\n",
    "        return [dist, False]\n",
    "    for j in x:\n",
    "        queue.append(j)\n",
    "        out = bfs(j, dist + 1, queue, N, flag)\n",
    "\n",
    "        if out[1] == True:\n",
    "            return out\n",
    "    \n",
    "    return out"
   ]
  },
  {
   "cell_type": "code",
   "execution_count": 108,
   "id": "3f29d802",
   "metadata": {},
   "outputs": [
    {
     "name": "stdout",
     "output_type": "stream",
     "text": [
      "2\n"
     ]
    }
   ],
   "source": [
    "print(bfs([2, 2], 0, [[2, 2]], 5, flag = False)[0])"
   ]
  },
  {
   "cell_type": "code",
   "execution_count": 5,
   "id": "0e1d7e00",
   "metadata": {},
   "outputs": [],
   "source": [
    "edge_list = [\n",
    "[0,1], \n",
    "[1,3], [1,6],\n",
    "[3,2], [3,7],\n",
    "[4,2],\n",
    "[6,3],\n",
    "[7,4], [7,5]\n",
    "]\n",
    "weight_list = [\n",
    "    5, \n",
    "    12, 3, \n",
    "    7, 1, \n",
    "    2, \n",
    "    4, \n",
    "    10, 3\n",
    "]\n",
    "vert_num = 8\n",
    "adj_list = construct_adj_list(edge_list, vert_num)\n",
    "K = max(weight_list)\n"
   ]
  },
  {
   "cell_type": "code",
   "execution_count": 6,
   "id": "fe0a1e8c",
   "metadata": {},
   "outputs": [],
   "source": [
    "\n",
    "def construct_adj_matrix(edge_list, weight_list, vert_num):\n",
    "    adj_matrix = [\n",
    "        [BIG_NUM for _ in range(vert_num)] for _ in range(vert_num)\n",
    "    ]\n",
    " \n",
    "    for edge, weight in zip(edge_list, weight_list):\n",
    "        src = edge[0]\n",
    "        dest = edge[1]\n",
    "        adj_matrix[src][dest] = weight\n",
    "    return adj_matrix"
   ]
  },
  {
   "cell_type": "code",
   "execution_count": 7,
   "id": "a4909bae",
   "metadata": {},
   "outputs": [],
   "source": [
    "adj_matrix = construct_adj_matrix(edge_list, weight_list, vert_num) "
   ]
  },
  {
   "cell_type": "code",
   "execution_count": 8,
   "id": "eb63d3b8",
   "metadata": {},
   "outputs": [
    {
     "ename": "SyntaxError",
     "evalue": "invalid syntax (2770177833.py, line 4)",
     "output_type": "error",
     "traceback": [
      "\u001b[1;36m  Cell \u001b[1;32mIn[8], line 4\u001b[1;36m\u001b[0m\n\u001b[1;33m    if\u001b[0m\n\u001b[1;37m      ^\u001b[0m\n\u001b[1;31mSyntaxError\u001b[0m\u001b[1;31m:\u001b[0m invalid syntax\n"
     ]
    }
   ],
   "source": [
    "def get_unused_closest(used, dist):\n",
    "    u = None\n",
    "    for i in range(len(used)):\n",
    "        if\n",
    "\n",
    "\n",
    "def dijkstra(K, adj_list, adj_matrix, src):\n",
    "    vert_num = len(adj_list)\n",
    "    dist = [BIG_NUM for _ in range(vert_num)]\n",
    "    used = [False for _ in range(vert_num)]\n",
    "    dist[src] = 0\n",
    "    while not all(used):\n",
    "        u = None\n",
    "        for i in range(vert_num):\n",
    "            if not used[i] and (u == None or dist[i] < dist[u]):\n",
    "                u = i\n",
    "            used \n",
    "            for v in adj_list[u]:\n",
    "                            weight = adj_matrix[u][v]\n",
    "                            if dist[v] > dist[u] + weight:\n",
    "                                dist[v] = dist[u] + weight\n",
    "    return dist"
   ]
  },
  {
   "cell_type": "code",
   "execution_count": null,
   "id": "08ef9690",
   "metadata": {},
   "outputs": [],
   "source": [
    "dijkstra(K, adj_list, adj_matrix, 0)"
   ]
  },
  {
   "cell_type": "code",
   "execution_count": 52,
   "id": "24303077",
   "metadata": {},
   "outputs": [
    {
     "data": {
      "text/plain": [
       "[0, 10, 30, 1000000]"
      ]
     },
     "execution_count": 52,
     "metadata": {},
     "output_type": "execute_result"
    }
   ],
   "source": []
  },
  {
   "cell_type": "code",
   "execution_count": null,
   "id": "fa243e21",
   "metadata": {},
   "outputs": [],
   "source": [
    "BIG_NUM = 1000000\n",
    "def bfs(adj_list, src):\n",
    "    vert_num = len(adj_list)\n",
    "    \n",
    "    dist = [BIG_NUM for _ in range(vert_num)]\n",
    "    \n",
    "    dist[src] = 0\n",
    "    \n",
    "    queue = []\n",
    "    \n",
    "    queue.append(src)\n",
    "    \n",
    "    while queue:\n",
    "        u = queue.pop(0)\n",
    "        for v in adj_list[u]:\n",
    "            \n",
    "            if dist[v] == BIG_NUM:\n",
    "                dist[v] = dist[u] + 1\n",
    "                \n",
    "                queue.append(v)\n",
    "    return dist\n",
    "            "
   ]
  },
  {
   "cell_type": "code",
   "execution_count": null,
   "id": "65a847b3",
   "metadata": {},
   "outputs": [],
   "source": []
  }
 ],
 "metadata": {
  "kernelspec": {
   "display_name": "Python 3 (ipykernel)",
   "language": "python",
   "name": "python3"
  },
  "language_info": {
   "codemirror_mode": {
    "name": "ipython",
    "version": 3
   },
   "file_extension": ".py",
   "mimetype": "text/x-python",
   "name": "python",
   "nbconvert_exporter": "python",
   "pygments_lexer": "ipython3",
   "version": "3.11.5"
  }
 },
 "nbformat": 4,
 "nbformat_minor": 5
}
